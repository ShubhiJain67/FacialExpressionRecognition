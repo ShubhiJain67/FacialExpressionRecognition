{
 "cells": [
  {
   "cell_type": "code",
   "execution_count": 1,
   "metadata": {},
   "outputs": [
    {
     "name": "stderr",
     "output_type": "stream",
     "text": [
      "Using TensorFlow backend.\n",
      "/usr/local/lib/python2.7/dist-packages/requests/__init__.py:83: RequestsDependencyWarning: Old version of cryptography ([1, 2, 3]) may cause slowdown.\n",
      "  warnings.warn(warning, RequestsDependencyWarning)\n"
     ]
    }
   ],
   "source": [
    "import numpy as np\n",
    "import pandas as pd\n",
    "from matplotlib import pyplot as plt\n",
    "%matplotlib inline\n",
    "import keras\n",
    "\n",
    "from keras.models import Sequential \n",
    "from keras.layers import Dense, Activation, Convolution2D, Reshape, Flatten, MaxPooling2D, Dropout\n",
    "from keras.utils import np_utils"
   ]
  },
  {
   "cell_type": "code",
   "execution_count": 2,
   "metadata": {},
   "outputs": [
    {
     "name": "stdout",
     "output_type": "stream",
     "text": [
      "(array(['PrivateTest', 'PublicTest', 'Training'], dtype=object), array([ 3589,  3589, 28709]))\n",
      "emotion                                                    0\n",
      "pixels     254 254 254 254 254 249 255 160 2 58 53 70 77 ...\n",
      "Usage                                             PublicTest\n",
      "Name: 28709, dtype: object emotion                                                    1\n",
      "pixels     156 184 198 202 204 207 210 212 213 214 215 21...\n",
      "Usage                                             PublicTest\n",
      "Name: 28710, dtype: object\n"
     ]
    },
    {
     "data": {
      "text/html": [
       "<div>\n",
       "<table border=\"1\" class=\"dataframe\">\n",
       "  <thead>\n",
       "    <tr style=\"text-align: right;\">\n",
       "      <th></th>\n",
       "      <th>emotion</th>\n",
       "      <th>pixels</th>\n",
       "      <th>Usage</th>\n",
       "    </tr>\n",
       "  </thead>\n",
       "  <tbody>\n",
       "    <tr>\n",
       "      <th>0</th>\n",
       "      <td>0</td>\n",
       "      <td>70 80 82 72 58 58 60 63 54 58 60 48 89 115 121...</td>\n",
       "      <td>Training</td>\n",
       "    </tr>\n",
       "    <tr>\n",
       "      <th>1</th>\n",
       "      <td>0</td>\n",
       "      <td>151 150 147 155 148 133 111 140 170 174 182 15...</td>\n",
       "      <td>Training</td>\n",
       "    </tr>\n",
       "    <tr>\n",
       "      <th>2</th>\n",
       "      <td>2</td>\n",
       "      <td>231 212 156 164 174 138 161 173 182 200 106 38...</td>\n",
       "      <td>Training</td>\n",
       "    </tr>\n",
       "    <tr>\n",
       "      <th>3</th>\n",
       "      <td>4</td>\n",
       "      <td>24 32 36 30 32 23 19 20 30 41 21 22 32 34 21 1...</td>\n",
       "      <td>Training</td>\n",
       "    </tr>\n",
       "    <tr>\n",
       "      <th>4</th>\n",
       "      <td>6</td>\n",
       "      <td>4 0 0 0 0 0 0 0 0 0 0 0 3 15 23 28 48 50 58 84...</td>\n",
       "      <td>Training</td>\n",
       "    </tr>\n",
       "  </tbody>\n",
       "</table>\n",
       "</div>"
      ],
      "text/plain": [
       "   emotion                                             pixels     Usage\n",
       "0        0  70 80 82 72 58 58 60 63 54 58 60 48 89 115 121...  Training\n",
       "1        0  151 150 147 155 148 133 111 140 170 174 182 15...  Training\n",
       "2        2  231 212 156 164 174 138 161 173 182 200 106 38...  Training\n",
       "3        4  24 32 36 30 32 23 19 20 30 41 21 22 32 34 21 1...  Training\n",
       "4        6  4 0 0 0 0 0 0 0 0 0 0 0 3 15 23 28 48 50 58 84...  Training"
      ]
     },
     "execution_count": 2,
     "metadata": {},
     "output_type": "execute_result"
    }
   ],
   "source": [
    "data = pd.read_csv('../MLCourse/data/FaceExpressionDataset/fer2013/fer2013.csv')\n",
    "d = data.values\n",
    "d.shape\n",
    "print np.unique(data['Usage'],return_counts=True)\n",
    "print data.loc[28709],data.loc[28710]\n",
    "data.head()\n"
   ]
  },
  {
   "cell_type": "code",
   "execution_count": 3,
   "metadata": {},
   "outputs": [
    {
     "name": "stdout",
     "output_type": "stream",
     "text": [
      "(array(['Training'], dtype=object), array([28709]))\n"
     ]
    }
   ],
   "source": [
    "# print data.loc[28709],data.loc[28708]\n",
    "print np.unique(data['Usage'][:28709],return_counts=True)"
   ]
  },
  {
   "cell_type": "code",
   "execution_count": 13,
   "metadata": {},
   "outputs": [],
   "source": [
    "tempPixels = d[:, 1]\n",
    "pixels = np.zeros((d.shape[0], 48*48))\n",
    "for ix in range(pixels.shape[0]):\n",
    "    t = tempPixels[ix].split(' ')\n",
    "    for iy in range(pixels.shape[1]):\n",
    "        pixels[ix, iy] = int(t[iy])"
   ]
  },
  {
   "cell_type": "code",
   "execution_count": 5,
   "metadata": {},
   "outputs": [
    {
     "name": "stdout",
     "output_type": "stream",
     "text": [
      "(35887, 3)\n"
     ]
    }
   ],
   "source": [
    "print d.shape"
   ]
  },
  {
   "cell_type": "code",
   "execution_count": 6,
   "metadata": {},
   "outputs": [],
   "source": [
    "#normalize \n",
    "pixels -= np.mean(pixels, axis=0)\n",
    "pixels /= np.std(pixels, axis=0)"
   ]
  },
  {
   "cell_type": "code",
   "execution_count": 7,
   "metadata": {},
   "outputs": [
    {
     "name": "stdout",
     "output_type": "stream",
     "text": [
      "(35887,)\n",
      "(35887, 7)\n"
     ]
    }
   ],
   "source": [
    "labels = d[:, 0]\n",
    "print labels.shape\n",
    "y = np_utils.to_categorical(labels)\n",
    "print y.shape"
   ]
  },
  {
   "cell_type": "code",
   "execution_count": 8,
   "metadata": {},
   "outputs": [
    {
     "name": "stdout",
     "output_type": "stream",
     "text": [
      "[[1. 0. 0. ... 0. 0. 0.]\n",
      " [1. 0. 0. ... 0. 0. 0.]\n",
      " [0. 0. 1. ... 0. 0. 0.]\n",
      " ...\n",
      " [1. 0. 0. ... 0. 0. 0.]\n",
      " [0. 0. 0. ... 0. 0. 0.]\n",
      " [0. 0. 1. ... 0. 0. 0.]]\n"
     ]
    }
   ],
   "source": [
    "print y"
   ]
  },
  {
   "cell_type": "code",
   "execution_count": 9,
   "metadata": {},
   "outputs": [
    {
     "name": "stdout",
     "output_type": "stream",
     "text": [
      "(28709, 2304) (7178, 2304)\n",
      "(28709, 7) (7178, 7)\n"
     ]
    }
   ],
   "source": [
    "split = int(0.80*pixels.shape[0])\n",
    "\n",
    "x_train = pixels[:split]\n",
    "y_train = y[:split]\n",
    "\n",
    "x_test = pixels[split:]\n",
    "y_test = y[split:]\n",
    "\n",
    "print x_train.shape, x_test.shape\n",
    "print y_train.shape, y_test.shape"
   ]
  },
  {
   "cell_type": "code",
   "execution_count": 10,
   "metadata": {},
   "outputs": [
    {
     "name": "stdout",
     "output_type": "stream",
     "text": [
      "(28709, 1, 48, 48) (7178, 1, 48, 48)\n",
      "(28709, 7) (7178, 7)\n"
     ]
    }
   ],
   "source": [
    "x_train = x_train.reshape((x_train.shape[0], 1, 48, 48))\n",
    "x_test = x_test.reshape((x_test.shape[0], 1, 48, 48))\n",
    "\n",
    "print x_train.shape, x_test.shape\n",
    "print y_train.shape, y_test.shape"
   ]
  },
  {
   "cell_type": "code",
   "execution_count": 11,
   "metadata": {},
   "outputs": [
    {
     "name": "stdout",
     "output_type": "stream",
     "text": [
      "_________________________________________________________________\n",
      "Layer (type)                 Output Shape              Param #   \n",
      "=================================================================\n",
      "conv2d_1 (Conv2D)            (None, 64, 46, 46)        640       \n",
      "_________________________________________________________________\n",
      "conv2d_2 (Conv2D)            (None, 64, 44, 44)        36928     \n",
      "_________________________________________________________________\n",
      "conv2d_3 (Conv2D)            (None, 64, 42, 42)        36928     \n",
      "_________________________________________________________________\n",
      "max_pooling2d_1 (MaxPooling2 (None, 64, 21, 21)        0         \n",
      "_________________________________________________________________\n",
      "conv2d_4 (Conv2D)            (None, 32, 19, 19)        18464     \n",
      "_________________________________________________________________\n",
      "conv2d_5 (Conv2D)            (None, 32, 17, 17)        9248      \n",
      "_________________________________________________________________\n",
      "conv2d_6 (Conv2D)            (None, 32, 15, 15)        9248      \n",
      "_________________________________________________________________\n",
      "max_pooling2d_2 (MaxPooling2 (None, 32, 7, 7)          0         \n",
      "_________________________________________________________________\n",
      "dropout_1 (Dropout)          (None, 32, 7, 7)          0         \n",
      "_________________________________________________________________\n",
      "flatten_1 (Flatten)          (None, 1568)              0         \n",
      "_________________________________________________________________\n",
      "dense_1 (Dense)              (None, 128)               200832    \n",
      "_________________________________________________________________\n",
      "dense_2 (Dense)              (None, 64)                8256      \n",
      "_________________________________________________________________\n",
      "dropout_2 (Dropout)          (None, 64)                0         \n",
      "_________________________________________________________________\n",
      "dense_3 (Dense)              (None, 7)                 455       \n",
      "_________________________________________________________________\n",
      "activation_1 (Activation)    (None, 7)                 0         \n",
      "=================================================================\n",
      "Total params: 320,999\n",
      "Trainable params: 320,999\n",
      "Non-trainable params: 0\n",
      "_________________________________________________________________\n"
     ]
    }
   ],
   "source": [
    "conv_model = Sequential()\n",
    "\n",
    "conv_model.add(Convolution2D(64, (3, 3), activation='relu', input_shape=(1,48,48), data_format='channels_first'))\n",
    "conv_model.add(Convolution2D(64, (3, 3), activation='relu', data_format='channels_first'))\n",
    "conv_model.add(Convolution2D(64, (3, 3), activation='relu', data_format='channels_first'))\n",
    "conv_model.add(MaxPooling2D(pool_size=(2, 2), data_format='channels_first'))\n",
    "conv_model.add(Convolution2D(32, (3, 3), activation='relu', data_format='channels_first'))\n",
    "conv_model.add(Convolution2D(32, (3, 3), activation='relu', data_format='channels_first'))\n",
    "conv_model.add(Convolution2D(32, (3, 3), activation='relu', data_format='channels_first'))\n",
    "conv_model.add(MaxPooling2D(pool_size=(2, 2), data_format='channels_first'))\n",
    "conv_model.add(Dropout(0.5))\n",
    "\n",
    "conv_model.add(Flatten())\n",
    "conv_model.add(Dense(128, activation='relu'))\n",
    "conv_model.add(Dense(64, activation='relu'))\n",
    "conv_model.add(Dropout(0.5))\n",
    "conv_model.add(Dense(7))\n",
    "conv_model.add(Activation('softmax'))\n",
    "\n",
    "conv_model.summary()\n",
    "#keras.optimizers.Adam(lr=0.0001, beta_1=0.9, beta_2=0.999, epsilon=1e-08, decay=0.0)\n",
    "conv_model.compile(loss='categorical_crossentropy', optimizer='adam',\n",
    "                  metrics=['accuracy'])"
   ]
  },
  {
   "cell_type": "code",
   "execution_count": null,
   "metadata": {},
   "outputs": [],
   "source": [
    "hist = conv_model.fit(x_train, y_train,\n",
    "                     nb_epoch=12,\n",
    "                     shuffle=True,\n",
    "                      batch_size=256,\n",
    "                     validation_data=(x_test, y_test))"
   ]
  },
  {
   "cell_type": "code",
   "execution_count": 11,
   "metadata": {},
   "outputs": [
    {
     "data": {
      "image/png": "[encoded data removed]",
      "text/plain": [
       "<Figure size 1008x216 with 2 Axes>"
      ]
     },
     "metadata": {},
     "output_type": "display_data"
    }
   ],
   "source": [
    "plt.figure(figsize=(14,3))\n",
    "plt.subplot(1, 2, 1)\n",
    "plt.suptitle('Optimizer : Adam', fontsize=10)\n",
    "plt.ylabel('Loss', fontsize=16)\n",
    "plt.plot(hist.history['loss'], 'b', label='Training Loss')\n",
    "plt.plot(hist.history['val_loss'], 'r', label='Validation Loss')\n",
    "plt.legend(loc='upper right')\n",
    "\n",
    "plt.subplot(1, 2, 2)\n",
    "plt.ylabel('Accuracy', fontsize=16)\n",
    "plt.plot(hist.history['acc'], 'b', label='Training Accuracy')\n",
    "plt.plot(hist.history['val_acc'], 'r', label='Validation Accuracy')\n",
    "plt.legend(loc='lower right')\n",
    "plt.show()"
   ]
  },
  {
   "cell_type": "code",
   "execution_count": null,
   "metadata": {},
   "outputs": [],
   "source": [
    "# conv_model.save()"
   ]
  },
  {
   "cell_type": "code",
   "execution_count": 14,
   "metadata": {},
   "outputs": [
    {
     "data": {
      "image/png": "[encoded data removed]",
      "text/plain": [
       "<Figure size 720x720 with 30 Axes>"
      ]
     },
     "metadata": {},
     "output_type": "display_data"
    }
   ],
   "source": [
    "fig = plt.figure(figsize=(10,10))\n",
    "\n",
    "for ix in range(30):\n",
    "    ax = plt.subplot(4,12,ix+1)\n",
    "    ax.set_title = ix\n",
    "    plt.imshow(test[split+ix].reshape((48, 48)), cmap='gray')\n",
    "    plt.axis('off')"
   ]
  },
  {
   "cell_type": "code",
   "execution_count": 15,
   "metadata": {},
   "outputs": [
    {
     "name": "stdout",
     "output_type": "stream",
     "text": [
      "(100, 1, 48, 48)\n",
      "16\n"
     ]
    }
   ],
   "source": [
    "pre = x_test[:100]\n",
    "print pre.shape\n",
    "ans = conv_model.predict(pre, batch_size=3)\n",
    "\n",
    "correct=0\n",
    "for ix in range(100):\n",
    "    if np.argmax(ans[ix]) == np.argmax(y_test[ix]):\n",
    "        #print np.argmax(ans[ix]),\" \",np.argmax(y_test[ix])\n",
    "        correct += 1\n",
    "        \n",
    "print correct"
   ]
  },
  {
   "cell_type": "code",
   "execution_count": 16,
   "metadata": {},
   "outputs": [
    {
     "name": "stdout",
     "output_type": "stream",
     "text": [
      "(100, 7)\n",
      "2\n"
     ]
    },
    {
     "data": {
      "text/plain": [
       "3"
      ]
     },
     "execution_count": 16,
     "metadata": {},
     "output_type": "execute_result"
    }
   ],
   "source": [
    "print ans.shape\n",
    "print np.argmax(ans[10])\n",
    "np.argmax(y_test[10])"
   ]
  },
  {
   "cell_type": "code",
   "execution_count": 17,
   "metadata": {},
   "outputs": [],
   "source": [
    "x_eval = x_test[343:3456]\n",
    "y_eval = y[split+343:split+3456]\n",
    "conv_model.evaluate_generator?\n",
    "score = conv_model.evaluate(x_eval, y_eval, verbose=0) #, show_accuracy=True"
   ]
  },
  {
   "cell_type": "code",
   "execution_count": 34,
   "metadata": {},
   "outputs": [
    {
     "name": "stdout",
     "output_type": "stream",
     "text": [
      "Score :  1.1500677764894416\n",
      "Accuracy :  56.0231288156056\n",
      "[1.1500677764894416, 0.560231288156056]\n"
     ]
    }
   ],
   "source": [
    "print \"Score : \", score[0]\n",
    "print \"Accuracy : \", score[1]*100\n",
    "\n",
    "print score"
   ]
  },
  {
   "cell_type": "code",
   "execution_count": 43,
   "metadata": {},
   "outputs": [
    {
     "name": "stdout",
     "output_type": "stream",
     "text": [
      "_________________________________________________________________\n",
      "Layer (type)                 Output Shape              Param #   \n",
      "=================================================================\n",
      "conv2d_7 (Conv2D)            (None, 64, 46, 46)        640       \n",
      "_________________________________________________________________\n",
      "conv2d_8 (Conv2D)            (None, 64, 44, 44)        36928     \n",
      "_________________________________________________________________\n",
      "conv2d_9 (Conv2D)            (None, 64, 42, 42)        36928     \n",
      "_________________________________________________________________\n",
      "max_pooling2d_3 (MaxPooling2 (None, 64, 21, 21)        0         \n",
      "_________________________________________________________________\n",
      "conv2d_10 (Conv2D)           (None, 32, 19, 19)        18464     \n",
      "_________________________________________________________________\n",
      "conv2d_11 (Conv2D)           (None, 32, 17, 17)        9248      \n",
      "_________________________________________________________________\n",
      "conv2d_12 (Conv2D)           (None, 32, 15, 15)        9248      \n",
      "_________________________________________________________________\n",
      "max_pooling2d_4 (MaxPooling2 (None, 32, 7, 7)          0         \n",
      "_________________________________________________________________\n",
      "dropout_3 (Dropout)          (None, 32, 7, 7)          0         \n",
      "_________________________________________________________________\n",
      "flatten_2 (Flatten)          (None, 1568)              0         \n",
      "_________________________________________________________________\n",
      "dense_4 (Dense)              (None, 128)               200832    \n",
      "_________________________________________________________________\n",
      "dense_5 (Dense)              (None, 64)                8256      \n",
      "_________________________________________________________________\n",
      "dropout_4 (Dropout)          (None, 64)                0         \n",
      "_________________________________________________________________\n",
      "dense_6 (Dense)              (None, 7)                 455       \n",
      "_________________________________________________________________\n",
      "activation_2 (Activation)    (None, 7)                 0         \n",
      "=================================================================\n",
      "Total params: 320,999\n",
      "Trainable params: 320,999\n",
      "Non-trainable params: 0\n",
      "_________________________________________________________________\n"
     ]
    }
   ],
   "source": [
    "conv_model1 = Sequential()\n",
    "\n",
    "conv_model1.add(Convolution2D(64, (3, 3), activation='relu', input_shape=(1,48,48), data_format='channels_first'))\n",
    "conv_model1.add(Convolution2D(64, (3, 3), activation='relu', data_format='channels_first'))\n",
    "conv_model1.add(Convolution2D(64, (3, 3), activation='relu', data_format='channels_first'))\n",
    "conv_model1.add(MaxPooling2D(pool_size=(2, 2), data_format='channels_first'))\n",
    "conv_model1.add(Convolution2D(32, (3, 3), activation='relu', data_format='channels_first'))\n",
    "conv_model1.add(Convolution2D(32, (3, 3), activation='relu', data_format='channels_first'))\n",
    "conv_model1.add(Convolution2D(32, (3, 3), activation='relu', data_format='channels_first'))\n",
    "conv_model1.add(MaxPooling2D(pool_size=(2, 2), data_format='channels_first'))\n",
    "conv_model1.add(Dropout(0.5))\n",
    "\n",
    "conv_model1.add(Flatten())\n",
    "conv_model1.add(Dense(128, activation='relu'))\n",
    "conv_model1.add(Dense(64, activation='relu'))\n",
    "conv_model1.add(Dropout(0.5))\n",
    "conv_model1.add(Dense(7))\n",
    "conv_model1.add(Activation('softmax'))\n",
    "\n",
    "conv_model1.summary()\n",
    "#keras.optimizers.Adam(lr=0.0001, beta_1=0.9, beta_2=0.999, epsilon=1e-08, decay=0.0)\n",
    "conv_model1.compile(loss='categorical_crossentropy', optimizer='adam',\n",
    "                  metrics=['accuracy'])"
   ]
  },
  {
   "cell_type": "markdown",
   "metadata": {},
   "source": [
    "# Support Vector Machine\n",
    "## Accuracy :"
   ]
  },
  {
   "cell_type": "code",
   "execution_count": 18,
   "metadata": {},
   "outputs": [],
   "source": [
    "import sklearn\n",
    "from sklearn import svm"
   ]
  },
  {
   "cell_type": "code",
   "execution_count": 19,
   "metadata": {},
   "outputs": [],
   "source": [
    "#  Data Prep\n",
    "X_train=x_train.reshape(len(x_train),48*48)\n",
    "Y_train=np.argmax(y_train,axis=1)\n",
    "X_test=x_test.reshape(len(x_test),48*48)\n",
    "Y_test=np.argmax(y_test,axis=1)"
   ]
  },
  {
   "cell_type": "code",
   "execution_count": null,
   "metadata": {},
   "outputs": [],
   "source": [
    "cf1 = svm.SVC(kernel='linear')\n",
    "cf1.fit(X_train, Y_train)\n",
    "\n",
    "print cf1.score(X_train, Y_train)\n",
    "print cf1.score(X_test, Y_test)"
   ]
  },
  {
   "cell_type": "code",
   "execution_count": null,
   "metadata": {},
   "outputs": [],
   "source": [
    "cf1 = svm.SVC(kernel='poly', random_state=21, degree=3)\n",
    "\n",
    "cf1.fit(X_train, Y_train)\n",
    "# TwoDim_dataset = dataset.reshape(dataset_size,-1)\n",
    "print cf1.score(X_train, Y_train)\n",
    "print cf1.score(X_test, Y_test)"
   ]
  },
  {
   "cell_type": "code",
   "execution_count": null,
   "metadata": {},
   "outputs": [],
   "source": [
    "cf1 = svm.SVC(kernel='rbf')\n",
    "\n",
    "cf1.fit(X_train, Y_train)\n",
    "\n",
    "print cf1.score(X_train, Y_train)\n",
    "print cf1.score(X_test, Y_test)"
   ]
  },
  {
   "cell_type": "code",
   "execution_count": null,
   "metadata": {},
   "outputs": [],
   "source": [
    "import torchvision.models as models\n",
    "vgg16 = models.vgg16(pretrained=True)\n",
    "res=models.resnet101(pretrained=True)"
   ]
  },
  {
   "cell_type": "code",
   "execution_count": null,
   "metadata": {},
   "outputs": [],
   "source": [
    "from keras import applications"
   ]
  },
  {
   "cell_type": "code",
   "execution_count": null,
   "metadata": {},
   "outputs": [],
   "source": [
    "applications.vgg16??"
   ]
  },
  {
   "cell_type": "code",
   "execution_count": null,
   "metadata": {},
   "outputs": [],
   "source": []
  }
 ],
 "metadata": {
  "kernelspec": {
   "display_name": "Python 2",
   "language": "python",
   "name": "python2"
  },
  "language_info": {
   "codemirror_mode": {
    "name": "ipython",
    "version": 2
   },
   "file_extension": ".py",
   "mimetype": "text/x-python",
   "name": "python",
   "nbconvert_exporter": "python",
   "pygments_lexer": "ipython2",
   "version": "2.7.12"
  }
 },
 "nbformat": 4,
 "nbformat_minor": 2
}
